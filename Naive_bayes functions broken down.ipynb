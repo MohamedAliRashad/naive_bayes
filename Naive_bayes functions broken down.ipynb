{
 "cells": [
  {
   "cell_type": "code",
   "execution_count": 1,
   "metadata": {
    "collapsed": false
   },
   "outputs": [
    {
     "name": "stdout",
     "output_type": "stream",
     "text": [
      "Loaded data file pima-indians-diabetes.csv with 768 rows\n"
     ]
    }
   ],
   "source": [
    "import csv\n",
    "def loadCSV(filename):\n",
    "    dataset = list(csv.reader(open(filename,'rb')))\n",
    "    for i in range(len(dataset)):\n",
    "        dataset[i] = (float(x) for x in dataset[i])\n",
    "    return dataset\n",
    "\n",
    "filename = \"pima-indians-diabetes.csv\"\n",
    "dataset = loadCSV(filename)\n",
    "print('Loaded data file {0} with {1} rows').format(filename, len(dataset))"
   ]
  },
  {
   "cell_type": "code",
   "execution_count": 2,
   "metadata": {
    "collapsed": false
   },
   "outputs": [
    {
     "name": "stdout",
     "output_type": "stream",
     "text": [
      "split 768 rows for training data 384 and testing data 384\n",
      "768\n"
     ]
    }
   ],
   "source": [
    "import random\n",
    "\n",
    "def split(dataSet, splitratio):\n",
    "    trainsize = int(len(dataSet)*splitratio)\n",
    "    testdata = list(dataSet)\n",
    "    traindata = []\n",
    "    while len(traindata) < trainsize:\n",
    "        index = random.randrange(len(testdata))\n",
    "        traindata.append(testdata.pop(index))\n",
    "    return traindata, testdata\n",
    "datatrain, datatest = split(dataset, 0.5)\n",
    "print \"split {0} rows for training data {1} and testing data {2}\".format(len(dataset), len(datatrain), len(datatest))\n",
    "print len(dataset)"
   ]
  },
  {
   "cell_type": "code",
   "execution_count": 3,
   "metadata": {
    "collapsed": false
   },
   "outputs": [
    {
     "name": "stdout",
     "output_type": "stream",
     "text": [
      "22\n"
     ]
    }
   ],
   "source": [
    "def seperatedByClass(dataset):\n",
    "    seperated = {}\n",
    "    for i in range(len(dataset)):\n",
    "        vector = dataset[i]\n",
    "        if (vector[-1] not in seperated):\n",
    "            seperated[vector[-1]] = []\n",
    "        seperated[vector[-1]].append(vector)\n",
    "    return seperated\n",
    "                                     \n",
    "dataset1 = [[1,20,1], [2,21,0], [3,22,1]]\n",
    "print sum(dataset1[0])\n",
    "    "
   ]
  },
  {
   "cell_type": "code",
   "execution_count": 4,
   "metadata": {
    "collapsed": false
   },
   "outputs": [
    {
     "name": "stdout",
     "output_type": "stream",
     "text": [
      "Summary of [1, 2, 3, 4, 5]: mean=3.0, stdev=1.58113883008\n"
     ]
    }
   ],
   "source": [
    "import math\n",
    "def mean(numbers):\n",
    "    return sum(numbers)/float(len(numbers))\n",
    "def stdev(numbers):\n",
    "    avg = mean(numbers)\n",
    "    variance = sum([pow(x-avg,2) for x in numbers])/float(len(numbers)-1)\n",
    "    return math.sqrt(variance)\n",
    "numbers = [1,2,3,4,5]\n",
    "print('Summary of {0}: mean={1}, stdev={2}').format(numbers, mean(numbers), stdev(numbers))"
   ]
  },
  {
   "cell_type": "code",
   "execution_count": 5,
   "metadata": {
    "collapsed": false
   },
   "outputs": [
    {
     "name": "stdout",
     "output_type": "stream",
     "text": [
      "[(1, 2, 3), (20, 21, 22), (0, 1, 0)]\n",
      "Attribute summaries: [(2.0, 1.0), (21.0, 1.0)]\n"
     ]
    }
   ],
   "source": [
    "def summarize(dataset):\n",
    "    summaries = [(mean(attribute),stdev(attribute)) for attribute in zip(*dataset)]\n",
    "    del summaries[-1]\n",
    "    return summaries\n",
    "dataset2 = [[1,20,0], [2,21,1], [3,22,0]]\n",
    "print zip(*dataset2)\n",
    "summary = summarize(dataset2)\n",
    "print('Attribute summaries: {0}').format(summary)"
   ]
  },
  {
   "cell_type": "code",
   "execution_count": 6,
   "metadata": {
    "collapsed": false
   },
   "outputs": [
    {
     "name": "stdout",
     "output_type": "stream",
     "text": [
      "Summary by class value: {0: [(4.0, 2.0), (22.333333333333332, 1.5275252316519465)], 1: [(3.0, 2.0), (21.666666666666668, 1.5275252316519465)]}\n"
     ]
    }
   ],
   "source": [
    "def summarizeByClass(dataset):\n",
    "    seperated = seperatedByClass(dataset)\n",
    "    summaries = {}\n",
    "    for classvalue, instances in seperated.iteritems():\n",
    "        summaries[classvalue] = summarize(instances)\n",
    "    return summaries\n",
    "dataset3 = [[1,20,1], [2,21,0], [3,22,1], [4,22,0], [5,23,1], [6,24,0]]\n",
    "summary = summarizeByClass(dataset3)\n",
    "print('Summary by class value: {0}').format(summary)\n",
    "    "
   ]
  },
  {
   "cell_type": "code",
   "execution_count": 7,
   "metadata": {
    "collapsed": false
   },
   "outputs": [
    {
     "name": "stdout",
     "output_type": "stream",
     "text": [
      "Probability of belonging to this class: 0.0624896575937\n"
     ]
    }
   ],
   "source": [
    "def calculateProbability(x,mean,stdev):\n",
    "    return (1/(math.sqrt(2*math.pi)*stdev))*(math.exp(-0.5*pow((x-mean)/stdev,2)))\n",
    "x = 71.5\n",
    "mean = 73\n",
    "stdev = 6.2\n",
    "probability = calculateProbability(x, mean, stdev)\n",
    "print('Probability of belonging to this class: {0}').format(probability)"
   ]
  },
  {
   "cell_type": "code",
   "execution_count": 8,
   "metadata": {
    "collapsed": false
   },
   "outputs": [
    {
     "name": "stdout",
     "output_type": "stream",
     "text": [
      "Probabilities for each class: {0: 0.7820853879509118, 1: 6.298736258150438e-05}\n"
     ]
    }
   ],
   "source": [
    "def calculateClassProbabilities(summaries, inputvector):\n",
    "    probabilities = {}\n",
    "    for classvalue, instances in summaries.iteritems():\n",
    "        probabilities[classvalue] = 1\n",
    "        for i in range(len(instances)):\n",
    "            mean, stdev = instances[i]\n",
    "            x = inputvector[i]\n",
    "            probabilities[classvalue] *= calculateProbability(x,mean,stdev)\n",
    "    return probabilities\n",
    "summaries1 = {0:[(1, 0.5)], 1:[(20, 5.0)]}\n",
    "inputVector1 = [1.1, '?']\n",
    "probabilities = calculateClassProbabilities(summaries1, inputVector1)\n",
    "print('Probabilities for each class: {0}').format(probabilities)"
   ]
  },
  {
   "cell_type": "code",
   "execution_count": 9,
   "metadata": {
    "collapsed": false
   },
   "outputs": [
    {
     "name": "stdout",
     "output_type": "stream",
     "text": [
      "Prediction: A\n"
     ]
    }
   ],
   "source": [
    "def predict(summaries, inputvector):\n",
    "    probabilities = calculateClassProbabilities(summaries, inputvector)\n",
    "    bestlabel, bestprob = None, -1\n",
    "    for classvalue, probability in probabilities.iteritems():\n",
    "        if bestlabel is None or probability > bestprob:\n",
    "            bestlabel = classvalue\n",
    "            bestprob = probability\n",
    "    return bestlabel\n",
    "summaries = {'A':[(1, 0.5)], 'B':[(20, 5.0)]}\n",
    "inputVector = [1.1, '?']\n",
    "result = predict(summaries, inputVector)\n",
    "print('Prediction: {0}').format(result)"
   ]
  },
  {
   "cell_type": "code",
   "execution_count": 10,
   "metadata": {
    "collapsed": false
   },
   "outputs": [
    {
     "name": "stdout",
     "output_type": "stream",
     "text": [
      "Predictions: ['A', 'B']\n"
     ]
    }
   ],
   "source": [
    "def getPredictions(summaries, testdata):\n",
    "    predictions = []\n",
    "    for i in range(len(testdata)):\n",
    "        predictions.append(predict(summaries, testdata[i]))\n",
    "    return predictions\n",
    "summaries = {'A':[(1, 0.5)], 'B':[(20, 5.0)]}\n",
    "testSet = [[1.1, '?'], [19.1, '?']]\n",
    "predictions = getPredictions(summaries, testSet)\n",
    "print('Predictions: {0}').format(predictions)"
   ]
  },
  {
   "cell_type": "code",
   "execution_count": 11,
   "metadata": {
    "collapsed": false
   },
   "outputs": [
    {
     "name": "stdout",
     "output_type": "stream",
     "text": [
      "Accuracy: 66.6666666667\n"
     ]
    }
   ],
   "source": [
    "def getAccuracy(testdata, predictions):\n",
    "    correct = 0\n",
    "    for i in range(len(testdata)):\n",
    "        if testdata[i][-1] == predictions[i]:\n",
    "            correct += 1\n",
    "    return (correct/float(len(testdata)))*100\n",
    "testdata = [[1,1,1,'a'], [2,2,2,'a'], [3,3,3,'b']]\n",
    "predictions = ['a', 'a', 'a']\n",
    "accuracy = getAccuracy(testdata, predictions)\n",
    "print('Accuracy: {0}').format(accuracy)"
   ]
  },
  {
   "cell_type": "code",
   "execution_count": null,
   "metadata": {
    "collapsed": true
   },
   "outputs": [],
   "source": []
  },
  {
   "cell_type": "code",
   "execution_count": null,
   "metadata": {
    "collapsed": true
   },
   "outputs": [],
   "source": []
  }
 ],
 "metadata": {
  "kernelspec": {
   "display_name": "Python 2",
   "language": "python",
   "name": "python2"
  },
  "language_info": {
   "codemirror_mode": {
    "name": "ipython",
    "version": 2
   },
   "file_extension": ".py",
   "mimetype": "text/x-python",
   "name": "python",
   "nbconvert_exporter": "python",
   "pygments_lexer": "ipython2",
   "version": "2.7.13"
  }
 },
 "nbformat": 4,
 "nbformat_minor": 2
}
